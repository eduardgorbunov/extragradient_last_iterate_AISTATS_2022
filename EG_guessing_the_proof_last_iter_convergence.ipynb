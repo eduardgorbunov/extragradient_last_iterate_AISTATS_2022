{
 "cells": [
  {
   "cell_type": "code",
   "execution_count": 1,
   "metadata": {},
   "outputs": [],
   "source": [
    "import numpy as np\n",
    "from numpy.linalg import norm\n",
    "import pickle\n",
    "import matplotlib.pyplot as plt\n",
    "import copy\n",
    "import math\n",
    "import time\n",
    "import scipy\n",
    "from pathlib import Path\n",
    "import scipy.io\n",
    "import cmath\n",
    "\n",
    "import cvxpy as cp\n",
    "\n",
    "%matplotlib inline"
   ]
  },
  {
   "cell_type": "markdown",
   "metadata": {},
   "source": [
    "# EG: SDP for worst case $\\|F(x^{k+1})\\|^2 - \\|F(x^k)\\|^2$"
   ]
  },
  {
   "cell_type": "markdown",
   "metadata": {},
   "source": [
    "In fact, we study here slightly different method:\n",
    "$$\n",
    "x^{k+1} = x^k - \\gamma F\\left(x^k - \\gamma F(x^k)\\right).\n",
    "$$"
   ]
  },
  {
   "cell_type": "markdown",
   "metadata": {},
   "source": [
    "### Define parameters and the matrices for the problem"
   ]
  },
  {
   "cell_type": "markdown",
   "metadata": {},
   "source": [
    "$\\gamma = \\frac{1}{5L}$"
   ]
  },
  {
   "cell_type": "code",
   "execution_count": 2,
   "metadata": {},
   "outputs": [],
   "source": [
    "# Lipschitz parameter and stepsize\n",
    "L = 1.0\n",
    "gamma1 = 1.0 / (5*L)\n",
    "gamma2 = gamma1\n",
    "\n",
    "# Matrices for SDP\n",
    "M0 = 1.0*np.array([[0, 0, 0, 0], \n",
    "                   [0, -1, 0, 0],\n",
    "                   [0, 0, 0, 0],\n",
    "                   [0, 0, 0, 1]])\n",
    "\n",
    "M1 = 1.0*np.array([[0, 0, 0, 0], \n",
    "                   [0, 1, -1.0/2, 0],\n",
    "                   [0, -1.0/2, 0, 0],\n",
    "                   [0, 0, 0, 0]])\n",
    "\n",
    "M2 = 1.0*np.array([[0, 0, 0, 0], \n",
    "                   [0, (L**2)*(gamma1**2)-1, 1, 0],\n",
    "                   [0, 1, -1, 0],\n",
    "                   [0, 0, 0, 0]])\n",
    "\n",
    "M3 = 1.0*np.array([[0, 0, 0, 0], \n",
    "                   [0, 0, 1.0/2, 0],\n",
    "                   [0, 1.0/2, 0, -1.0/2],\n",
    "                   [0, 0, -1.0/2, 0]])\n",
    "\n",
    "M4 = 1.0*np.array([[0, 0, 0, 0], \n",
    "                   [0, -1, 0, 1],\n",
    "                   [0, 0, (L**2)*(gamma2**2), 0],\n",
    "                   [0, 1, 0, -1]])\n",
    "\n",
    "M5 = 1.0*np.array([[0, 0, 0, 0], \n",
    "                   [0, 0, -gamma1/2, gamma1/2],\n",
    "                   [0, -gamma1/2, gamma2, -gamma2/2],\n",
    "                   [0, gamma1/2, -gamma2/2, 0]]) / gamma1\n",
    "\n",
    "M6 = 1.0*np.array([[0, 0, 0, 0], \n",
    "                   [0, (L**2)*(gamma1**2), -(L**2)*(gamma1*gamma2), 0],\n",
    "                   [0, -(L**2)*(gamma1*gamma2), (L**2)*(gamma2**2)-1, 1],\n",
    "                   [0, 0, 1, -1]])\n",
    "\n",
    "M7 = 1.0*np.array([[0, 0.5, 0, 0], \n",
    "                   [0.5, 0, 0, 0],\n",
    "                   [0, 0, 0, 0],\n",
    "                   [0, 0, 0, 0]])\n",
    "\n",
    "M8 = 1.0*np.array([[L**2, 0, 0, 0], \n",
    "                   [0, -1, 0, 0],\n",
    "                   [0, 0, 0, 0],\n",
    "                   [0, 0, 0, 0]])\n",
    "\n",
    "M9 = 1.0*np.array([[0, 0, 0.5, 0], \n",
    "                   [0, 0, -gamma1/2, 0],\n",
    "                   [0.5, -gamma1/2, 0, 0],\n",
    "                   [0, 0, 0, 0]])\n",
    "\n",
    "M10 = 1.0*np.array([[L**2, -(L**2)*gamma1, 0, 0], \n",
    "                   [-(L**2)*gamma1, (L**2)*(gamma1**2), 0, 0],\n",
    "                   [0, 0, -1, 0],\n",
    "                   [0, 0, 0, 0]])\n",
    "\n",
    "M11 = 1.0*np.array([[0, 0, 0, 0.5], \n",
    "                   [0, 0, 0, 0],\n",
    "                   [0, 0, 0, -gamma2/2],\n",
    "                   [0.5, 0, -gamma2/2, 0]])\n",
    "\n",
    "M12 = 1.0*np.array([[(L**2), 0, -(L**2)*gamma2, 0], \n",
    "                   [0, 0, 0, 0],\n",
    "                   [-(L**2)*gamma2, 0, (L**2)*(gamma2**2), 0],\n",
    "                   [0, 0, 0, -1]])\n",
    "\n",
    "M13 = 1.0*np.array([[1, 0, 0, 0], \n",
    "                   [0, 0, 0, 0],\n",
    "                   [0, 0, 0, 0],\n",
    "                   [0, 0, 0, 0]])"
   ]
  },
  {
   "cell_type": "markdown",
   "metadata": {},
   "source": [
    "### Define and solve SDP problem"
   ]
  },
  {
   "cell_type": "code",
   "execution_count": 3,
   "metadata": {},
   "outputs": [
    {
     "name": "stdout",
     "output_type": "stream",
     "text": [
      "Wall time: 128 ms\n"
     ]
    },
    {
     "data": {
      "text/plain": [
       "1.431010310248837e-10"
      ]
     },
     "execution_count": 3,
     "metadata": {},
     "output_type": "execute_result"
    }
   ],
   "source": [
    "%%time\n",
    "G = cp.Variable((4,4), symmetric=True)\n",
    "\n",
    "constraints = [G >> 0]\n",
    "constraints += [cp.trace(M1 @ G) >= 0]\n",
    "constraints += [cp.trace(M2 @ G) >= 0]\n",
    "constraints += [cp.trace(M3 @ G) >= 0]\n",
    "constraints += [cp.trace(M4 @ G) >= 0]\n",
    "constraints += [cp.trace(M5 @ G) >= 0]\n",
    "constraints += [cp.trace(M6 @ G) >= 0]\n",
    "constraints += [cp.trace(M7 @ G) >= 0]\n",
    "constraints += [cp.trace(M8 @ G) >= 0]\n",
    "constraints += [cp.trace(M9 @ G) >= 0]\n",
    "constraints += [cp.trace(M10 @ G) >= 0]\n",
    "constraints += [cp.trace(M11 @ G) >= 0]\n",
    "constraints += [cp.trace(M12 @ G) >= 0]\n",
    "constraints += [cp.trace(M13 @ G) == 1]\n",
    "\n",
    "prob = cp.Problem(cp.Maximize(cp.trace(M0 @ G)),\n",
    "                  constraints)\n",
    "\n",
    "prob.solve()"
   ]
  },
  {
   "cell_type": "code",
   "execution_count": 4,
   "metadata": {},
   "outputs": [
    {
     "name": "stdout",
     "output_type": "stream",
     "text": [
      "The optimal value is 1.431010310248837e-10\n",
      "G = \n",
      "[[1.         0.07927615 0.07927615 0.07927615]\n",
      " [0.07927615 0.30908499 0.30908499 0.30908499]\n",
      " [0.07927615 0.30908499 0.30908499 0.30908499]\n",
      " [0.07927615 0.30908499 0.30908499 0.30908499]]\n"
     ]
    }
   ],
   "source": [
    "print(\"The optimal value is\", prob.value)\n",
    "print(\"G = \")\n",
    "print(G.value)"
   ]
  },
  {
   "cell_type": "markdown",
   "metadata": {},
   "source": [
    "### Print dual variables"
   ]
  },
  {
   "cell_type": "code",
   "execution_count": 5,
   "metadata": {},
   "outputs": [
    {
     "name": "stdout",
     "output_type": "stream",
     "text": [
      "Dual variable 1 :  4.77030987477042e-10\n",
      "Dual variable 2 :  0.0\n",
      "Dual variable 3 :  1.999999999801979\n",
      "Dual variable 4 :  0.0\n",
      "Dual variable 5 :  0.5803686163130072\n",
      "Dual variable 6 :  1.337493848880875\n",
      "Dual variable 7 :  0.0\n",
      "Dual variable 8 :  0.0\n",
      "Dual variable 9 :  0.0\n",
      "Dual variable 10:  0.0\n",
      "Dual variable 11:  0.0\n",
      "Dual variable 12:  0.0\n",
      "Dual variable 13:  1.6145668435654499e-10\n"
     ]
    }
   ],
   "source": [
    "print(\"Dual variable 1 : \", constraints[1].dual_value)\n",
    "print(\"Dual variable 2 : \", constraints[2].dual_value)\n",
    "print(\"Dual variable 3 : \", constraints[3].dual_value)\n",
    "print(\"Dual variable 4 : \", constraints[4].dual_value)\n",
    "print(\"Dual variable 5 : \", constraints[5].dual_value)\n",
    "print(\"Dual variable 6 : \", constraints[6].dual_value)\n",
    "print(\"Dual variable 7 : \", constraints[7].dual_value)\n",
    "print(\"Dual variable 8 : \", constraints[8].dual_value)\n",
    "print(\"Dual variable 9 : \", constraints[9].dual_value)\n",
    "print(\"Dual variable 10: \", constraints[10].dual_value)\n",
    "print(\"Dual variable 11: \", constraints[11].dual_value)\n",
    "print(\"Dual variable 12: \", constraints[12].dual_value)\n",
    "print(\"Dual variable 13: \", constraints[13].dual_value)"
   ]
  },
  {
   "cell_type": "markdown",
   "metadata": {},
   "source": [
    "### Define parameters and the matrices for the problem"
   ]
  },
  {
   "cell_type": "markdown",
   "metadata": {},
   "source": [
    "$\\gamma = \\frac{1}{4L}$"
   ]
  },
  {
   "cell_type": "code",
   "execution_count": 6,
   "metadata": {},
   "outputs": [],
   "source": [
    "# Lipschitz parameter and stepsize\n",
    "L = 1.0\n",
    "gamma1 = 1.0 / (4*L)\n",
    "gamma2 = gamma1\n",
    "\n",
    "# Matrices for SDP\n",
    "M0 = 1.0*np.array([[0, 0, 0, 0], \n",
    "                   [0, -1, 0, 0],\n",
    "                   [0, 0, 0, 0],\n",
    "                   [0, 0, 0, 1]])\n",
    "\n",
    "M1 = 1.0*np.array([[0, 0, 0, 0], \n",
    "                   [0, 1, -1.0/2, 0],\n",
    "                   [0, -1.0/2, 0, 0],\n",
    "                   [0, 0, 0, 0]])\n",
    "\n",
    "M2 = 1.0*np.array([[0, 0, 0, 0], \n",
    "                   [0, (L**2)*(gamma1**2)-1, 1, 0],\n",
    "                   [0, 1, -1, 0],\n",
    "                   [0, 0, 0, 0]])\n",
    "\n",
    "M3 = 1.0*np.array([[0, 0, 0, 0], \n",
    "                   [0, 0, 1.0/2, 0],\n",
    "                   [0, 1.0/2, 0, -1.0/2],\n",
    "                   [0, 0, -1.0/2, 0]])\n",
    "\n",
    "M4 = 1.0*np.array([[0, 0, 0, 0], \n",
    "                   [0, -1, 0, 1],\n",
    "                   [0, 0, (L**2)*(gamma2**2), 0],\n",
    "                   [0, 1, 0, -1]])\n",
    "\n",
    "M5 = 1.0*np.array([[0, 0, 0, 0], \n",
    "                   [0, 0, -gamma1/2, gamma1/2],\n",
    "                   [0, -gamma1/2, gamma2, -gamma2/2],\n",
    "                   [0, gamma1/2, -gamma2/2, 0]]) / gamma1\n",
    "\n",
    "M6 = 1.0*np.array([[0, 0, 0, 0], \n",
    "                   [0, (L**2)*(gamma1**2), -(L**2)*(gamma1*gamma2), 0],\n",
    "                   [0, -(L**2)*(gamma1*gamma2), (L**2)*(gamma2**2)-1, 1],\n",
    "                   [0, 0, 1, -1]])\n",
    "\n",
    "M7 = 1.0*np.array([[0, 0.5, 0, 0], \n",
    "                   [0.5, 0, 0, 0],\n",
    "                   [0, 0, 0, 0],\n",
    "                   [0, 0, 0, 0]])\n",
    "\n",
    "M8 = 1.0*np.array([[L**2, 0, 0, 0], \n",
    "                   [0, -1, 0, 0],\n",
    "                   [0, 0, 0, 0],\n",
    "                   [0, 0, 0, 0]])\n",
    "\n",
    "M9 = 1.0*np.array([[0, 0, 0.5, 0], \n",
    "                   [0, 0, -gamma1/2, 0],\n",
    "                   [0.5, -gamma1/2, 0, 0],\n",
    "                   [0, 0, 0, 0]])\n",
    "\n",
    "M10 = 1.0*np.array([[L**2, -(L**2)*gamma1, 0, 0], \n",
    "                   [-(L**2)*gamma1, (L**2)*(gamma1**2), 0, 0],\n",
    "                   [0, 0, -1, 0],\n",
    "                   [0, 0, 0, 0]])\n",
    "\n",
    "M11 = 1.0*np.array([[0, 0, 0, 0.5], \n",
    "                   [0, 0, 0, 0],\n",
    "                   [0, 0, 0, -gamma2/2],\n",
    "                   [0.5, 0, -gamma2/2, 0]])\n",
    "\n",
    "M12 = 1.0*np.array([[(L**2), 0, -(L**2)*gamma2, 0], \n",
    "                   [0, 0, 0, 0],\n",
    "                   [-(L**2)*gamma2, 0, (L**2)*(gamma2**2), 0],\n",
    "                   [0, 0, 0, -1]])\n",
    "\n",
    "M13 = 1.0*np.array([[1, 0, 0, 0], \n",
    "                   [0, 0, 0, 0],\n",
    "                   [0, 0, 0, 0],\n",
    "                   [0, 0, 0, 0]])"
   ]
  },
  {
   "cell_type": "markdown",
   "metadata": {},
   "source": [
    "### Define and solve SDP problem"
   ]
  },
  {
   "cell_type": "code",
   "execution_count": 7,
   "metadata": {},
   "outputs": [
    {
     "name": "stdout",
     "output_type": "stream",
     "text": [
      "Wall time: 30 ms\n"
     ]
    },
    {
     "data": {
      "text/plain": [
       "-1.1110082932697107e-05"
      ]
     },
     "execution_count": 7,
     "metadata": {},
     "output_type": "execute_result"
    }
   ],
   "source": [
    "%%time\n",
    "G = cp.Variable((4,4), symmetric=True)\n",
    "\n",
    "constraints = [G >> 0]\n",
    "constraints += [cp.trace(M1 @ G) >= 0]\n",
    "constraints += [cp.trace(M2 @ G) >= 0]\n",
    "constraints += [cp.trace(M3 @ G) >= 0]\n",
    "constraints += [cp.trace(M4 @ G) >= 0]\n",
    "constraints += [cp.trace(M5 @ G) >= 0]\n",
    "constraints += [cp.trace(M6 @ G) >= 0]\n",
    "constraints += [cp.trace(M7 @ G) >= 0]\n",
    "constraints += [cp.trace(M8 @ G) >= 0]\n",
    "constraints += [cp.trace(M9 @ G) >= 0]\n",
    "constraints += [cp.trace(M10 @ G) >= 0]\n",
    "constraints += [cp.trace(M11 @ G) >= 0]\n",
    "constraints += [cp.trace(M12 @ G) >= 0]\n",
    "constraints += [cp.trace(M13 @ G) == 1]\n",
    "\n",
    "prob = cp.Problem(cp.Maximize(cp.trace(M0 @ G)),\n",
    "                  constraints)\n",
    "\n",
    "prob.solve()"
   ]
  },
  {
   "cell_type": "code",
   "execution_count": 8,
   "metadata": {},
   "outputs": [
    {
     "name": "stdout",
     "output_type": "stream",
     "text": [
      "The optimal value is -1.1110082932697107e-05\n",
      "G = \n",
      "[[1.0000053  0.09827903 0.09827698 0.09829571]\n",
      " [0.09827903 0.30086963 0.30084578 0.30086077]\n",
      " [0.09827698 0.30084578 0.30082181 0.30083944]\n",
      " [0.09829571 0.30086077 0.30083944 0.30085852]]\n"
     ]
    }
   ],
   "source": [
    "print(\"The optimal value is\", prob.value)\n",
    "print(\"G = \")\n",
    "print(G.value)"
   ]
  },
  {
   "cell_type": "markdown",
   "metadata": {},
   "source": [
    "### Print dual variables"
   ]
  },
  {
   "cell_type": "code",
   "execution_count": 9,
   "metadata": {},
   "outputs": [
    {
     "name": "stdout",
     "output_type": "stream",
     "text": [
      "Dual variable 1 :  4.001109602667928e-05\n",
      "Dual variable 2 :  0.0\n",
      "Dual variable 3 :  2.0000650018484327\n",
      "Dual variable 4 :  0.0\n",
      "Dual variable 5 :  0.5859157618454286\n",
      "Dual variable 6 :  1.331117064465093\n",
      "Dual variable 7 :  0.0\n",
      "Dual variable 8 :  0.0\n",
      "Dual variable 9 :  0.0\n",
      "Dual variable 10:  0.0\n",
      "Dual variable 11:  0.0\n",
      "Dual variable 12:  0.0\n",
      "Dual variable 13:  -2.0038238481393826e-05\n"
     ]
    }
   ],
   "source": [
    "print(\"Dual variable 1 : \", constraints[1].dual_value)\n",
    "print(\"Dual variable 2 : \", constraints[2].dual_value)\n",
    "print(\"Dual variable 3 : \", constraints[3].dual_value)\n",
    "print(\"Dual variable 4 : \", constraints[4].dual_value)\n",
    "print(\"Dual variable 5 : \", constraints[5].dual_value)\n",
    "print(\"Dual variable 6 : \", constraints[6].dual_value)\n",
    "print(\"Dual variable 7 : \", constraints[7].dual_value)\n",
    "print(\"Dual variable 8 : \", constraints[8].dual_value)\n",
    "print(\"Dual variable 9 : \", constraints[9].dual_value)\n",
    "print(\"Dual variable 10: \", constraints[10].dual_value)\n",
    "print(\"Dual variable 11: \", constraints[11].dual_value)\n",
    "print(\"Dual variable 12: \", constraints[12].dual_value)\n",
    "print(\"Dual variable 13: \", constraints[13].dual_value)"
   ]
  },
  {
   "cell_type": "markdown",
   "metadata": {},
   "source": [
    "### Define parameters and the matrices for the problem"
   ]
  },
  {
   "cell_type": "markdown",
   "metadata": {},
   "source": [
    "$\\gamma = \\frac{1}{3L}$"
   ]
  },
  {
   "cell_type": "code",
   "execution_count": 10,
   "metadata": {},
   "outputs": [],
   "source": [
    "# Lipschitz parameter and stepsize\n",
    "L = 1.0\n",
    "gamma1 = 1.0 / (3*L)\n",
    "gamma2 = gamma1\n",
    "\n",
    "# Matrices for SDP\n",
    "M0 = 1.0*np.array([[0, 0, 0, 0], \n",
    "                   [0, -1, 0, 0],\n",
    "                   [0, 0, 0, 0],\n",
    "                   [0, 0, 0, 1]])\n",
    "\n",
    "M1 = 1.0*np.array([[0, 0, 0, 0], \n",
    "                   [0, 1, -1.0/2, 0],\n",
    "                   [0, -1.0/2, 0, 0],\n",
    "                   [0, 0, 0, 0]])\n",
    "\n",
    "M2 = 1.0*np.array([[0, 0, 0, 0], \n",
    "                   [0, (L**2)*(gamma1**2)-1, 1, 0],\n",
    "                   [0, 1, -1, 0],\n",
    "                   [0, 0, 0, 0]])\n",
    "\n",
    "M3 = 1.0*np.array([[0, 0, 0, 0], \n",
    "                   [0, 0, 1.0/2, 0],\n",
    "                   [0, 1.0/2, 0, -1.0/2],\n",
    "                   [0, 0, -1.0/2, 0]])\n",
    "\n",
    "M4 = 1.0*np.array([[0, 0, 0, 0], \n",
    "                   [0, -1, 0, 1],\n",
    "                   [0, 0, (L**2)*(gamma2**2), 0],\n",
    "                   [0, 1, 0, -1]])\n",
    "\n",
    "M5 = 1.0*np.array([[0, 0, 0, 0], \n",
    "                   [0, 0, -gamma1/2, gamma1/2],\n",
    "                   [0, -gamma1/2, gamma2, -gamma2/2],\n",
    "                   [0, gamma1/2, -gamma2/2, 0]]) / gamma1\n",
    "\n",
    "M6 = 1.0*np.array([[0, 0, 0, 0], \n",
    "                   [0, (L**2)*(gamma1**2), -(L**2)*(gamma1*gamma2), 0],\n",
    "                   [0, -(L**2)*(gamma1*gamma2), (L**2)*(gamma2**2)-1, 1],\n",
    "                   [0, 0, 1, -1]])\n",
    "\n",
    "M7 = 1.0*np.array([[0, 0.5, 0, 0], \n",
    "                   [0.5, 0, 0, 0],\n",
    "                   [0, 0, 0, 0],\n",
    "                   [0, 0, 0, 0]])\n",
    "\n",
    "M8 = 1.0*np.array([[L**2, 0, 0, 0], \n",
    "                   [0, -1, 0, 0],\n",
    "                   [0, 0, 0, 0],\n",
    "                   [0, 0, 0, 0]])\n",
    "\n",
    "M9 = 1.0*np.array([[0, 0, 0.5, 0], \n",
    "                   [0, 0, -gamma1/2, 0],\n",
    "                   [0.5, -gamma1/2, 0, 0],\n",
    "                   [0, 0, 0, 0]])\n",
    "\n",
    "M10 = 1.0*np.array([[L**2, -(L**2)*gamma1, 0, 0], \n",
    "                   [-(L**2)*gamma1, (L**2)*(gamma1**2), 0, 0],\n",
    "                   [0, 0, -1, 0],\n",
    "                   [0, 0, 0, 0]])\n",
    "\n",
    "M11 = 1.0*np.array([[0, 0, 0, 0.5], \n",
    "                   [0, 0, 0, 0],\n",
    "                   [0, 0, 0, -gamma2/2],\n",
    "                   [0.5, 0, -gamma2/2, 0]])\n",
    "\n",
    "M12 = 1.0*np.array([[(L**2), 0, -(L**2)*gamma2, 0], \n",
    "                   [0, 0, 0, 0],\n",
    "                   [-(L**2)*gamma2, 0, (L**2)*(gamma2**2), 0],\n",
    "                   [0, 0, 0, -1]])\n",
    "\n",
    "M13 = 1.0*np.array([[1, 0, 0, 0], \n",
    "                   [0, 0, 0, 0],\n",
    "                   [0, 0, 0, 0],\n",
    "                   [0, 0, 0, 0]])"
   ]
  },
  {
   "cell_type": "markdown",
   "metadata": {},
   "source": [
    "### Define and solve SDP problem"
   ]
  },
  {
   "cell_type": "code",
   "execution_count": 11,
   "metadata": {},
   "outputs": [
    {
     "name": "stdout",
     "output_type": "stream",
     "text": [
      "Wall time: 29 ms\n"
     ]
    },
    {
     "data": {
      "text/plain": [
       "-2.887441768906207e-06"
      ]
     },
     "execution_count": 11,
     "metadata": {},
     "output_type": "execute_result"
    }
   ],
   "source": [
    "%%time\n",
    "G = cp.Variable((4,4), symmetric=True)\n",
    "\n",
    "constraints = [G >> 0]\n",
    "constraints += [cp.trace(M1 @ G) >= 0]\n",
    "constraints += [cp.trace(M2 @ G) >= 0]\n",
    "constraints += [cp.trace(M3 @ G) >= 0]\n",
    "constraints += [cp.trace(M4 @ G) >= 0]\n",
    "constraints += [cp.trace(M5 @ G) >= 0]\n",
    "constraints += [cp.trace(M6 @ G) >= 0]\n",
    "constraints += [cp.trace(M7 @ G) >= 0]\n",
    "constraints += [cp.trace(M8 @ G) >= 0]\n",
    "constraints += [cp.trace(M9 @ G) >= 0]\n",
    "constraints += [cp.trace(M10 @ G) >= 0]\n",
    "constraints += [cp.trace(M11 @ G) >= 0]\n",
    "constraints += [cp.trace(M12 @ G) >= 0]\n",
    "constraints += [cp.trace(M13 @ G) == 1]\n",
    "\n",
    "prob = cp.Problem(cp.Maximize(cp.trace(M0 @ G)),\n",
    "                  constraints)\n",
    "\n",
    "prob.solve()"
   ]
  },
  {
   "cell_type": "code",
   "execution_count": 12,
   "metadata": {},
   "outputs": [
    {
     "name": "stdout",
     "output_type": "stream",
     "text": [
      "The optimal value is -2.887441768906207e-06\n",
      "G = \n",
      "[[1.00000046 0.12070312 0.12070496 0.12070714]\n",
      " [0.12070312 0.32381443 0.32381085 0.32381296]\n",
      " [0.12070496 0.32381085 0.32381018 0.32381151]\n",
      " [0.12070714 0.32381296 0.32381151 0.32381154]]\n"
     ]
    }
   ],
   "source": [
    "print(\"The optimal value is\", prob.value)\n",
    "print(\"G = \")\n",
    "print(G.value)"
   ]
  },
  {
   "cell_type": "markdown",
   "metadata": {},
   "source": [
    "### Print dual variables"
   ]
  },
  {
   "cell_type": "code",
   "execution_count": 13,
   "metadata": {},
   "outputs": [
    {
     "name": "stdout",
     "output_type": "stream",
     "text": [
      "Dual variable 1 :  2.755998537282654e-06\n",
      "Dual variable 2 :  0.0\n",
      "Dual variable 3 :  2.0000049348919617\n",
      "Dual variable 4 :  0.0\n",
      "Dual variable 5 :  0.43020469368251846\n",
      "Dual variable 6 :  1.427219078631502\n",
      "Dual variable 7 :  0.0\n",
      "Dual variable 8 :  0.0\n",
      "Dual variable 9 :  0.0\n",
      "Dual variable 10:  0.0\n",
      "Dual variable 11:  0.0\n",
      "Dual variable 12:  0.0\n",
      "Dual variable 13:  -2.66371289206901e-06\n"
     ]
    }
   ],
   "source": [
    "print(\"Dual variable 1 : \", constraints[1].dual_value)\n",
    "print(\"Dual variable 2 : \", constraints[2].dual_value)\n",
    "print(\"Dual variable 3 : \", constraints[3].dual_value)\n",
    "print(\"Dual variable 4 : \", constraints[4].dual_value)\n",
    "print(\"Dual variable 5 : \", constraints[5].dual_value)\n",
    "print(\"Dual variable 6 : \", constraints[6].dual_value)\n",
    "print(\"Dual variable 7 : \", constraints[7].dual_value)\n",
    "print(\"Dual variable 8 : \", constraints[8].dual_value)\n",
    "print(\"Dual variable 9 : \", constraints[9].dual_value)\n",
    "print(\"Dual variable 10: \", constraints[10].dual_value)\n",
    "print(\"Dual variable 11: \", constraints[11].dual_value)\n",
    "print(\"Dual variable 12: \", constraints[12].dual_value)\n",
    "print(\"Dual variable 13: \", constraints[13].dual_value)"
   ]
  },
  {
   "cell_type": "markdown",
   "metadata": {},
   "source": [
    "### Define parameters and the matrices for the problem"
   ]
  },
  {
   "cell_type": "markdown",
   "metadata": {},
   "source": [
    "$\\gamma = \\frac{1}{2L}$"
   ]
  },
  {
   "cell_type": "code",
   "execution_count": 18,
   "metadata": {},
   "outputs": [],
   "source": [
    "# Lipschitz parameter and stepsize\n",
    "L = 1.0\n",
    "gamma1 = 1.0 / (2*L)\n",
    "gamma2 = gamma1\n",
    "\n",
    "# Matrices for SDP\n",
    "M0 = 1.0*np.array([[0, 0, 0, 0], \n",
    "                   [0, -1, 0, 0],\n",
    "                   [0, 0, 0, 0],\n",
    "                   [0, 0, 0, 1]])\n",
    "\n",
    "M1 = 1.0*np.array([[0, 0, 0, 0], \n",
    "                   [0, 1, -1.0/2, 0],\n",
    "                   [0, -1.0/2, 0, 0],\n",
    "                   [0, 0, 0, 0]])\n",
    "\n",
    "M2 = 1.0*np.array([[0, 0, 0, 0], \n",
    "                   [0, (L**2)*(gamma1**2)-1, 1, 0],\n",
    "                   [0, 1, -1, 0],\n",
    "                   [0, 0, 0, 0]])\n",
    "\n",
    "M3 = 1.0*np.array([[0, 0, 0, 0], \n",
    "                   [0, 0, 1.0/2, 0],\n",
    "                   [0, 1.0/2, 0, -1.0/2],\n",
    "                   [0, 0, -1.0/2, 0]])\n",
    "\n",
    "M4 = 1.0*np.array([[0, 0, 0, 0], \n",
    "                   [0, -1, 0, 1],\n",
    "                   [0, 0, (L**2)*(gamma2**2), 0],\n",
    "                   [0, 1, 0, -1]])\n",
    "\n",
    "M5 = 1.0*np.array([[0, 0, 0, 0], \n",
    "                   [0, 0, -gamma1/2, gamma1/2],\n",
    "                   [0, -gamma1/2, gamma2, -gamma2/2],\n",
    "                   [0, gamma1/2, -gamma2/2, 0]]) / gamma1\n",
    "\n",
    "M6 = 1.0*np.array([[0, 0, 0, 0], \n",
    "                   [0, (L**2)*(gamma1**2), -(L**2)*(gamma1*gamma2), 0],\n",
    "                   [0, -(L**2)*(gamma1*gamma2), (L**2)*(gamma2**2)-1, 1],\n",
    "                   [0, 0, 1, -1]])\n",
    "\n",
    "M7 = 1.0*np.array([[0, 0.5, 0, 0], \n",
    "                   [0.5, 0, 0, 0],\n",
    "                   [0, 0, 0, 0],\n",
    "                   [0, 0, 0, 0]])\n",
    "\n",
    "M8 = 1.0*np.array([[L**2, 0, 0, 0], \n",
    "                   [0, -1, 0, 0],\n",
    "                   [0, 0, 0, 0],\n",
    "                   [0, 0, 0, 0]])\n",
    "\n",
    "M9 = 1.0*np.array([[0, 0, 0.5, 0], \n",
    "                   [0, 0, -gamma1/2, 0],\n",
    "                   [0.5, -gamma1/2, 0, 0],\n",
    "                   [0, 0, 0, 0]])\n",
    "\n",
    "M10 = 1.0*np.array([[L**2, -(L**2)*gamma1, 0, 0], \n",
    "                   [-(L**2)*gamma1, (L**2)*(gamma1**2), 0, 0],\n",
    "                   [0, 0, -1, 0],\n",
    "                   [0, 0, 0, 0]])\n",
    "\n",
    "M11 = 1.0*np.array([[0, 0, 0, 0.5], \n",
    "                   [0, 0, 0, 0],\n",
    "                   [0, 0, 0, -gamma2/2],\n",
    "                   [0.5, 0, -gamma2/2, 0]])\n",
    "\n",
    "M12 = 1.0*np.array([[(L**2), 0, -(L**2)*gamma2, 0], \n",
    "                   [0, 0, 0, 0],\n",
    "                   [-(L**2)*gamma2, 0, (L**2)*(gamma2**2), 0],\n",
    "                   [0, 0, 0, -1]])\n",
    "\n",
    "M13 = 1.0*np.array([[1, 0, 0, 0], \n",
    "                   [0, 0, 0, 0],\n",
    "                   [0, 0, 0, 0],\n",
    "                   [0, 0, 0, 0]])"
   ]
  },
  {
   "cell_type": "markdown",
   "metadata": {},
   "source": [
    "### Define and solve SDP problem"
   ]
  },
  {
   "cell_type": "code",
   "execution_count": 19,
   "metadata": {},
   "outputs": [
    {
     "name": "stdout",
     "output_type": "stream",
     "text": [
      "Wall time: 28 ms\n"
     ]
    },
    {
     "data": {
      "text/plain": [
       "-2.2439360946036047e-06"
      ]
     },
     "execution_count": 19,
     "metadata": {},
     "output_type": "execute_result"
    }
   ],
   "source": [
    "%%time\n",
    "G = cp.Variable((4,4), symmetric=True)\n",
    "\n",
    "constraints = [G >> 0]\n",
    "constraints += [cp.trace(M1 @ G) >= 0]\n",
    "constraints += [cp.trace(M2 @ G) >= 0]\n",
    "constraints += [cp.trace(M3 @ G) >= 0]\n",
    "constraints += [cp.trace(M4 @ G) >= 0]\n",
    "constraints += [cp.trace(M5 @ G) >= 0]\n",
    "constraints += [cp.trace(M6 @ G) >= 0]\n",
    "constraints += [cp.trace(M7 @ G) >= 0]\n",
    "constraints += [cp.trace(M8 @ G) >= 0]\n",
    "constraints += [cp.trace(M9 @ G) >= 0]\n",
    "constraints += [cp.trace(M10 @ G) >= 0]\n",
    "constraints += [cp.trace(M11 @ G) >= 0]\n",
    "constraints += [cp.trace(M12 @ G) >= 0]\n",
    "constraints += [cp.trace(M13 @ G) == 1]\n",
    "\n",
    "prob = cp.Problem(cp.Maximize(cp.trace(M0 @ G)),\n",
    "                  constraints)\n",
    "\n",
    "prob.solve()"
   ]
  },
  {
   "cell_type": "code",
   "execution_count": 20,
   "metadata": {},
   "outputs": [
    {
     "name": "stdout",
     "output_type": "stream",
     "text": [
      "The optimal value is -2.2439360946036047e-06\n",
      "G = \n",
      "[[1.00000069 0.16229743 0.16230239 0.16229271]\n",
      " [0.16229743 0.29713577 0.29713687 0.29713668]\n",
      " [0.16230239 0.29713687 0.29713931 0.29713707]\n",
      " [0.16229271 0.29713668 0.29713707 0.29713353]]\n"
     ]
    }
   ],
   "source": [
    "print(\"The optimal value is\", prob.value)\n",
    "print(\"G = \")\n",
    "print(G.value)"
   ]
  },
  {
   "cell_type": "markdown",
   "metadata": {},
   "source": [
    "### Print dual variables"
   ]
  },
  {
   "cell_type": "code",
   "execution_count": 21,
   "metadata": {},
   "outputs": [
    {
     "name": "stdout",
     "output_type": "stream",
     "text": [
      "Dual variable 1 :  0.0\n",
      "Dual variable 2 :  0.0\n",
      "Dual variable 3 :  2.0000119980201756\n",
      "Dual variable 4 :  0.0\n",
      "Dual variable 5 :  0.4212982062584506\n",
      "Dual variable 6 :  1.3436820772438518\n",
      "Dual variable 7 :  0.0\n",
      "Dual variable 8 :  0.0\n",
      "Dual variable 9 :  0.0\n",
      "Dual variable 10:  0.0\n",
      "Dual variable 11:  0.0\n",
      "Dual variable 12:  0.0\n",
      "Dual variable 13:  -2.320994038404713e-06\n"
     ]
    }
   ],
   "source": [
    "print(\"Dual variable 1 : \", constraints[1].dual_value)\n",
    "print(\"Dual variable 2 : \", constraints[2].dual_value)\n",
    "print(\"Dual variable 3 : \", constraints[3].dual_value)\n",
    "print(\"Dual variable 4 : \", constraints[4].dual_value)\n",
    "print(\"Dual variable 5 : \", constraints[5].dual_value)\n",
    "print(\"Dual variable 6 : \", constraints[6].dual_value)\n",
    "print(\"Dual variable 7 : \", constraints[7].dual_value)\n",
    "print(\"Dual variable 8 : \", constraints[8].dual_value)\n",
    "print(\"Dual variable 9 : \", constraints[9].dual_value)\n",
    "print(\"Dual variable 10: \", constraints[10].dual_value)\n",
    "print(\"Dual variable 11: \", constraints[11].dual_value)\n",
    "print(\"Dual variable 12: \", constraints[12].dual_value)\n",
    "print(\"Dual variable 13: \", constraints[13].dual_value)"
   ]
  },
  {
   "cell_type": "markdown",
   "metadata": {},
   "source": [
    "### We see that dual variables are almost independent of $\\gamma$. Therefore, we make a following guess:"
   ]
  },
  {
   "cell_type": "markdown",
   "metadata": {},
   "source": [
    "$$\\lambda_3 = 2, \\quad \\lambda_5 = \\frac{1}{2},\\quad \\lambda_6 = \\frac{3}{2}$$"
   ]
  },
  {
   "cell_type": "markdown",
   "metadata": {},
   "source": [
    "### and other dual variables are zeros"
   ]
  }
 ],
 "metadata": {
  "kernelspec": {
   "display_name": "Python 3",
   "language": "python",
   "name": "python3"
  },
  "language_info": {
   "codemirror_mode": {
    "name": "ipython",
    "version": 3
   },
   "file_extension": ".py",
   "mimetype": "text/x-python",
   "name": "python",
   "nbconvert_exporter": "python",
   "pygments_lexer": "ipython3",
   "version": "3.8.3"
  }
 },
 "nbformat": 4,
 "nbformat_minor": 4
}
